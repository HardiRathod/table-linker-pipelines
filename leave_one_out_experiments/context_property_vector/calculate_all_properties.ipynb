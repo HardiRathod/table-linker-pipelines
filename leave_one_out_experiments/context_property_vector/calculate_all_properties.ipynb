{
 "cells": [
  {
   "cell_type": "markdown",
   "id": "eaea7418",
   "metadata": {},
   "source": [
    "## Purpose\n",
    "For leave one out experiments, context property vector feature, calculating all the properties needed.\n",
    "\n",
    "For data: Download from AWS S3 - table-linker-datasets/Experiments/context_vector_{train/dev}data into Experiments/ folders\n",
    "Alternatively recreate the data by running the datasets with context_property_vector.py\n",
    "\n",
    "Both forward and reverse properties are considered."
   ]
  },
  {
   "cell_type": "code",
   "execution_count": 2,
   "id": "b8cfc400",
   "metadata": {},
   "outputs": [],
   "source": [
    "import pandas as pd\n",
    "import glob\n",
    "import os\n",
    "import numpy as np\n",
    "from ast import literal_eval\n"
   ]
  },
  {
   "cell_type": "code",
   "execution_count": 3,
   "id": "f7fbd9e1",
   "metadata": {},
   "outputs": [],
   "source": [
    "all_train_files = 'Experiments/context_vector_train_data/'\n",
    "all_dev_files = 'Experiments/context_vector_dev_data/'"
   ]
  },
  {
   "cell_type": "code",
   "execution_count": 10,
   "id": "626d3c9c",
   "metadata": {},
   "outputs": [
    {
     "name": "stdout",
     "output_type": "stream",
     "text": [
      "533\n",
      "122\n"
     ]
    }
   ],
   "source": [
    "\n",
    "all_train_files_list = glob.glob(all_train_files + '/*/*.csv')\n",
    "print(len(all_train_files_list))\n",
    "all_dev_files_list = glob.glob(all_dev_files + '/*/*.csv')\n",
    "print(len(all_dev_files_list))"
   ]
  },
  {
   "cell_type": "code",
   "execution_count": 14,
   "id": "6efe45aa",
   "metadata": {},
   "outputs": [],
   "source": [
    "properties_set = set()\n",
    "inverse_properties = set()\n",
    "for file in all_train_files_list:\n",
    "    df = pd.read_csv(file)\n",
    "    df['context_property_vector'] = df['context_property_vector'].apply(literal_eval)\n",
    "    property_values = df['context_property_vector'].values\n",
    "    for k in property_values:\n",
    "        for prop in k:\n",
    "            #print(prop)\n",
    "            if '_' in prop:\n",
    "                inverse_properties.add(prop)\n",
    "            else:\n",
    "                properties_set.add(prop)\n",
    "for file in all_dev_files_list:\n",
    "    df = pd.read_csv(file)\n",
    "    df['context_property_vector'] = df['context_property_vector'].apply(literal_eval)\n",
    "    property_values = df['context_property_vector'].values\n",
    "    for k in property_values:\n",
    "        for prop in k:\n",
    "            #print(prop)\n",
    "            if '_' in prop:\n",
    "                inverse_properties.add(prop)\n",
    "            else:\n",
    "                properties_set.add(prop)    \n",
    "    "
   ]
  },
  {
   "cell_type": "code",
   "execution_count": 15,
   "id": "53853b68",
   "metadata": {},
   "outputs": [
    {
     "data": {
      "text/plain": [
       "3261"
      ]
     },
     "execution_count": 15,
     "metadata": {},
     "output_type": "execute_result"
    }
   ],
   "source": [
    "len(properties_set)"
   ]
  },
  {
   "cell_type": "code",
   "execution_count": 16,
   "id": "d3a853cc",
   "metadata": {},
   "outputs": [
    {
     "data": {
      "text/plain": [
       "438"
      ]
     },
     "execution_count": 16,
     "metadata": {},
     "output_type": "execute_result"
    }
   ],
   "source": [
    "len(inverse_properties)"
   ]
  },
  {
   "cell_type": "code",
   "execution_count": null,
   "id": "ab6703db",
   "metadata": {},
   "outputs": [],
   "source": []
  }
 ],
 "metadata": {
  "kernelspec": {
   "display_name": "Python 3",
   "language": "python",
   "name": "python3"
  },
  "language_info": {
   "codemirror_mode": {
    "name": "ipython",
    "version": 3
   },
   "file_extension": ".py",
   "mimetype": "text/x-python",
   "name": "python",
   "nbconvert_exporter": "python",
   "pygments_lexer": "ipython3",
   "version": "3.8.5"
  }
 },
 "nbformat": 4,
 "nbformat_minor": 5
}
