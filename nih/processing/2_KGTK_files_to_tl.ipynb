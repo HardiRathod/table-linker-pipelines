{
 "cells": [
  {
   "cell_type": "markdown",
   "metadata": {},
   "source": [
    "Setup environment"
   ]
  },
  {
   "cell_type": "code",
   "execution_count": 1,
   "metadata": {},
   "outputs": [
    {
     "name": "stdout",
     "output_type": "stream",
     "text": [
      "usage: kgtk [options] command [ / command]*\n"
     ]
    }
   ],
   "source": [
    "!kgtk"
   ]
  },
  {
   "cell_type": "code",
   "execution_count": 2,
   "metadata": {
    "tags": [
     "parameters"
    ]
   },
   "outputs": [],
   "source": [
    "# Parameters\n",
    "\n",
    "# Folder on local machine where to create the output and temporary folders\n",
    "output_path = \"/Users/grantxie/Downloads/NIH\"\n",
    "\n",
    "# The names of the output and temporary folders\n",
    "output_folder = \"useful_wikidata_files\"\n",
    "temp_folder = \"temp.useful_wikidata_files\"\n",
    "\n",
    "# The location of input files\n",
    "wiki_root_folder = \"/Users/grantxie/Downloads/NIH/\"\n",
    "claims_file = \"claims.tsv.gz\"\n",
    "label_file = \"labels.en.tsv.gz\"\n",
    "alias_file = \"aliases.en.tsv.gz\"\n",
    "description_file = \"descriptions.en.tsv.gz\"\n",
    "item_file = \"claims.wikibase-item.tsv.gz\"\n",
    "\n",
    "label_all = \"labels.tsv.gz\"\n",
    "alias_all = \"aliases.tsv.gz\"\n",
    "description_all = \"descriptions.tsv.gz\"\n",
    "\n",
    "# Location of the cache database for kypher\n",
    "cache_path = \"/Users/grantxie/Downloads/NIH/temp.useful_wikidata_files\"\n",
    "\n",
    "# Whether to delete the cache database\n",
    "delete_database = False\n",
    "\n",
    "# Whether to compute pagerank as it may not run on the laptop\n",
    "compute_pagerank = True\n",
    "languages = 'ru,es,zh-cn,de,it,nl,pl,fr,pt,sv'"
   ]
  },
  {
   "cell_type": "code",
   "execution_count": 3,
   "metadata": {},
   "outputs": [],
   "source": [
    "languages = languages.split(',')"
   ]
  },
  {
   "cell_type": "code",
   "execution_count": 34,
   "metadata": {},
   "outputs": [],
   "source": [
    "import io\n",
    "import os\n",
    "import subprocess\n",
    "import sys\n",
    "import glob\n",
    "\n",
    "import numpy as np\n",
    "import pandas as pd\n",
    "\n",
    "import altair as alt"
   ]
  },
  {
   "cell_type": "markdown",
   "metadata": {},
   "source": [
    "## Set up environment and folders to store the files\n",
    "\n",
    "- `OUT` folder where the output files go\n",
    "- `TEMP` folder to keep temporary files , including the database\n",
    "- `kgtk` shortcut to invoke the kgtk software\n",
    "- `kypher` shortcut to invoke `kgtk query with the cache database\n",
    "- `CLAIMS` the `all.tsv` file of wikidata that contains all edges except label/alias/description\n",
    "- `LABELS` the file with the English labels\n",
    "- `ITEMS` the wikibase-item file (currently does not include node1 that are properties so for now we need the net file\n",
    "- `STORE` location of the cache file"
   ]
  },
  {
   "cell_type": "code",
   "execution_count": 5,
   "metadata": {},
   "outputs": [],
   "source": [
    "if cache_path:\n",
    "    os.environ['STORE'] = \"{}/wikidata.sqlite3.db\".format(cache_path)\n",
    "else:\n",
    "    os.environ['STORE'] = \"{}/{}/wikidata.sqlite3.db\".format(output_path, temp_folder)\n",
    "os.environ['OUT'] = \"{}/{}\".format(output_path, output_folder)\n",
    "os.environ['TEMP'] = \"{}/{}\".format(output_path, temp_folder)\n",
    "os.environ['kgtk'] = \"kgtk\"\n",
    "os.environ['kgtk'] = \"kgtk --debug\"\n",
    "os.environ['kypher'] = \"kgtk --debug query --graph-cache \" + os.environ['STORE']\n",
    "os.environ['CLAIMS'] = wiki_root_folder + claims_file\n",
    "os.environ['LABELS'] = wiki_root_folder + label_file\n",
    "os.environ['ALIASES'] = wiki_root_folder + alias_file\n",
    "os.environ['DESCRIPTIONS'] = wiki_root_folder + description_file\n",
    "os.environ['ITEMS'] = wiki_root_folder + item_file"
   ]
  },
  {
   "cell_type": "markdown",
   "metadata": {},
   "source": [
    "Echo the variables to see if they are all set correctly"
   ]
  },
  {
   "cell_type": "code",
   "execution_count": 6,
   "metadata": {},
   "outputs": [
    {
     "name": "stdout",
     "output_type": "stream",
     "text": [
      "/Users/grantxie/Downloads/NIH/useful_wikidata_files\n",
      "/Users/grantxie/Downloads/NIH/temp.useful_wikidata_files\n",
      "kgtk --debug\n",
      "kgtk --debug query --graph-cache /Users/grantxie/Downloads/NIH/temp.useful_wikidata_files/wikidata.sqlite3.db\n",
      "/Users/grantxie/Downloads/NIH/claims.tsv.gz\n",
      "/Users/grantxie/Downloads/NIH/labels.en.tsv.gz\n",
      "/Users/grantxie/Downloads/NIH/aliases.en.tsv.gz\n",
      "/Users/grantxie/Downloads/NIH/labels.en.tsv.gz\n",
      "\n",
      "/Users/grantxie/Downloads/NIH/temp.useful_wikidata_files/wikidata.sqlite3.db\n"
     ]
    }
   ],
   "source": [
    "!echo $OUT\n",
    "!echo $TEMP\n",
    "!echo $kgtk\n",
    "!echo $kypher\n",
    "!echo $CLAIMS\n",
    "!echo $LABELS\n",
    "!echo $ALIASES\n",
    "!echo $LABELS\n",
    "!echo $DESCRIPTIONSa\n",
    "!echo $STORE\n",
    "!alias col=\"column -t -s $'\\t' \""
   ]
  },
  {
   "cell_type": "markdown",
   "metadata": {},
   "source": [
    "Go to the output directory and create the subfolders for the output files and the temporary files"
   ]
  },
  {
   "cell_type": "code",
   "execution_count": 7,
   "metadata": {},
   "outputs": [
    {
     "name": "stdout",
     "output_type": "stream",
     "text": [
      "/Users/grantxie/Downloads/NIH\n"
     ]
    }
   ],
   "source": [
    "cd $output_path"
   ]
  },
  {
   "cell_type": "code",
   "execution_count": 8,
   "metadata": {},
   "outputs": [],
   "source": [
    "!mkdir -p $OUT\n",
    "!mkdir -p $TEMP"
   ]
  },
  {
   "cell_type": "markdown",
   "metadata": {},
   "source": [
    "Clean up the output and temp folders before we start"
   ]
  },
  {
   "cell_type": "code",
   "execution_count": 9,
   "metadata": {},
   "outputs": [],
   "source": [
    "# !rm $OUT/*.tsv $OUT/*.tsv.gz\n",
    "# !rm $TEMP/*.tsv $TEMP/*.tsv.gz"
   ]
  },
  {
   "cell_type": "code",
   "execution_count": 10,
   "metadata": {},
   "outputs": [],
   "source": [
    "if delete_database:\n",
    "    print(\"Deleteddatabase\") \n",
    "    !rm $STORE"
   ]
  },
  {
   "cell_type": "code",
   "execution_count": 11,
   "metadata": {},
   "outputs": [
    {
     "name": "stdout",
     "output_type": "stream",
     "text": [
      "total 282840\n",
      "-rw-r--r--  1 grantxie  staff      9025 Jul 10 14:52 Untitled.ipynb\n",
      "-rw-r--r--@ 1 grantxie  staff   4125423 Jul  9 11:27 coinvestigators 2.tsv\n",
      "-rw-r--r--@ 1 grantxie  staff   4125423 Jul  9 11:56 coinvestigators 3.tsv\n",
      "-rw-r--r--@ 1 grantxie  staff   4125423 Jul  9 11:58 coinvestigators 4.tsv\n",
      "-rw-r--r--@ 1 grantxie  staff   2511815 Jul  9 12:26 coinvestigators.compact 2.tsv\n",
      "-rw-r--r--@ 1 grantxie  staff   2511815 Jul  9 11:23 coinvestigators.compact.tsv\n",
      "-rw-r--r--@ 1 grantxie  staff    780726 Dec 14 01:16 coinvestigators.compact.tsv.gz\n",
      "-rw-r--r--@ 1 grantxie  staff   4125423 Jul  9 11:24 coinvestigators.tsv\n",
      "-rw-r--r--@ 1 grantxie  staff    891571 Dec 14 01:15 coinvestigators.tsv.gz\n",
      "-rw-r--r--  1 grantxie  staff      4378 Jul  8 20:46 coinvestigators11.tsv.gz\n",
      "-rw-r--r--@ 1 grantxie  staff     92690 Jul  8 21:51 nih_investigators_for_tl 2.tsv\n",
      "-rw-r--r--@ 1 grantxie  staff     92690 Jul  8 21:51 nih_investigators_for_tl 3.tsv\n",
      "-rw-r--r--@ 1 grantxie  staff     27653 Jul  8 20:45 nih_investigators_for_tl.tsv\n",
      "-rw-r--r--@ 1 grantxie  staff     10861 Jul  8 21:51 nih_investigators_for_tl.tsv.gz\n",
      "-rw-r--r--@ 1 grantxie  staff     38766 Jul  9 11:22 nih_investigators_for_tl3 10.tsv\n",
      "-rw-r--r--@ 1 grantxie  staff     27653 Jul  8 20:48 nih_investigators_for_tl3 2.tsv\n",
      "-rw-r--r--@ 1 grantxie  staff     92690 Jul  8 20:58 nih_investigators_for_tl3 3.tsv\n",
      "-rw-r--r--@ 1 grantxie  staff     92690 Jul  8 21:09 nih_investigators_for_tl3 4.tsv\n",
      "-rw-r--r--@ 1 grantxie  staff     27653 Jul  8 21:20 nih_investigators_for_tl3 5.tsv\n",
      "-rw-r--r--@ 1 grantxie  staff     27653 Jul  8 21:25 nih_investigators_for_tl3 6.tsv\n",
      "-rw-r--r--@ 1 grantxie  staff     27653 Jul  8 21:26 nih_investigators_for_tl3 7.tsv\n",
      "-rw-r--r--@ 1 grantxie  staff  32600976 Jul  9 11:21 nih_investigators_for_tl3 8.tsv\n",
      "-rw-r--r--@ 1 grantxie  staff  32600976 Jul  9 11:21 nih_investigators_for_tl3 9.tsv\n",
      "-rw-r--r--@ 1 grantxie  staff     27653 Jul  8 20:45 nih_investigators_for_tl3.tsv\n",
      "-rw-r--r--@ 1 grantxie  staff       105 Nov 14 00:25 nih_investigators_for_tl3.tsv.gz\n",
      "-rw-r--r--  1 grantxie  staff      7660 Jul  8 21:07 nih_investigators_for_tl3_sort.tsv.gz\n",
      "-rw-r--r--@ 1 grantxie  staff    109758 Jul  8 21:28 nih_investigators_for_tl4 2.tsv\n",
      "-rw-r--r--@ 1 grantxie  staff    115718 Jul  8 21:37 nih_investigators_for_tl4 3.tsv\n",
      "-rw-r--r--@ 1 grantxie  staff     29143 Jul  8 21:42 nih_investigators_for_tl4 4.tsv\n",
      "-rw-r--r--@ 1 grantxie  staff   5875902 Jul  8 21:47 nih_investigators_for_tl4 5.tsv\n",
      "-rw-r--r--@ 1 grantxie  staff     92690 Jul  8 21:27 nih_investigators_for_tl4.tsv\n",
      "-rw-r--r--@ 1 grantxie  staff        55 Nov 14 00:24 nih_investigators_for_tl4.tsv.gz\n",
      "-rw-r--r--@ 1 grantxie  staff     92690 Jul  9 08:48 nih_investigators_for_tl_2.tsv\n",
      "-rw-r--r--@ 1 grantxie  staff     12121 Jul  8 20:48 nih_investigators_for_tl_2.tsv.gz\n",
      "-rw-r--r--@ 1 grantxie  staff     27653 Jul  8 21:55 nih_investigators_for_tl_new 2.tsv\n",
      "-rw-r--r--@ 1 grantxie  staff     27653 Jul  9 08:48 nih_investigators_for_tl_new 3.tsv\n",
      "-rw-r--r--@ 1 grantxie  staff     27653 Jul  9 12:02 nih_investigators_for_tl_new 4.tsv\n",
      "-rw-r--r--@ 1 grantxie  staff     27653 Jul  8 21:52 nih_investigators_for_tl_new.tsv\n",
      "-rw-r--r--@ 1 grantxie  staff      6931 Jul  8 21:51 nih_investigators_for_tl_new.tsv.gz\n",
      "-rw-r--r--@ 1 grantxie  staff     38766 Jul  9 12:02 nih_investigators_for_tl_no_error.tsv\n",
      "-rw-r--r--@ 1 grantxie  staff      9278 Jul  9 12:02 nih_investigators_for_tl_no_error.tsv.gz\n",
      "-rw-r--r--@ 1 grantxie  staff     38766 Jul  9 12:28 nih_investigators_for_tl_no_error_1225 2.tsv\n",
      "-rw-r--r--@ 1 grantxie  staff     38766 Jul  9 12:29 nih_investigators_for_tl_no_error_1225 3.tsv\n",
      "-rw-r--r--@ 1 grantxie  staff   6459815 Jul  9 12:32 nih_investigators_for_tl_no_error_1225 4.tsv\n",
      "-rw-r--r--@ 1 grantxie  staff   6459815 Jul  9 12:36 nih_investigators_for_tl_no_error_1225 5.tsv\n",
      "-rw-r--r--@ 1 grantxie  staff   6459815 Jul  9 13:03 nih_investigators_for_tl_no_error_1225 6.tsv\n",
      "-rw-r--r--@ 1 grantxie  staff     38766 Jul  9 12:26 nih_investigators_for_tl_no_error_1225.tsv\n",
      "-rw-r--r--@ 1 grantxie  staff   1587292 Jul  9 12:31 nih_investigators_for_tl_no_error_1225.tsv.gz\n",
      "-rw-r--r--@ 1 grantxie  staff   6459815 Jul  9 16:40 nih_investigators_for_tl_no_error_1225_7.tsv\n",
      "-rw-r--r--@ 1 grantxie  staff     92690 Jul  8 21:53 nih_investigators_for_tl_original.tsv\n",
      "-rw-r--r--@ 1 grantxie  staff  20919252 Dec 14 01:21 nih_investigators_for_tl_original.tsv.gz\n",
      "-rw-r--r--  1 grantxie  staff        33 Nov 14 00:25 org.tsv.gz\n",
      "-rw-r--r--  1 grantxie  staff        57 Sep 23 08:21 test_nih.tsv.gz\n",
      "wikidata.sqlite3.db\n",
      "-rw-r--r--@ 1 grantxie  staff  3827281 Jul 26 09:40 /Users/grantxie/Downloads/NIH/claims.tsv.gz\n",
      "-rw-r--r--@ 1 grantxie  staff  2247582427 Jul 26 16:13 /Users/grantxie/Downloads/NIH/labels.en.tsv.gz\n",
      "ls: /Users/grantxie/Downloads/NIH/aliases.en.tsv.gz: No such file or directory\n",
      "-rw-r--r--@ 1 grantxie  staff  2247582427 Jul 26 16:13 /Users/grantxie/Downloads/NIH/labels.en.tsv.gz\n",
      "ls: /Users/grantxie/Downloads/NIH/descriptions.en.tsv.gz: No such file or directory\n",
      "/Users/grantxie/Downloads/NIH/temp.useful_wikidata_files/wikidata.sqlite3.db\n"
     ]
    }
   ],
   "source": [
    "!ls -l $OUT\n",
    "!ls $TEMP\n",
    "!ls -l \"$CLAIMS\"\n",
    "!ls -l \"$LABELS\"\n",
    "!ls -l \"$ALIASES\"\n",
    "!ls -l \"$LABELS\"\n",
    "!ls -l \"$DESCRIPTIONS\"\n",
    "!ls $STORE"
   ]
  },
  {
   "cell_type": "markdown",
   "metadata": {},
   "source": [
    "## Concatenate and load KGTK NIH Reporter files"
   ]
  },
  {
   "cell_type": "code",
   "execution_count": 63,
   "metadata": {},
   "outputs": [],
   "source": [
    "person = ''\n",
    "inv = ''\n",
    "org = ''\n",
    "for file in glob.glob('/Users/grantxie/Downloads/kgtk-files-nih-V3.0_new/*.tsv'):\n",
    "    if 'person' in file:\n",
    "        person += ' -i ' + file\n",
    "    if 'nih_inv' in file:\n",
    "        inv += ' -i ' + file\n",
    "    if 'person' in file:\n",
    "        org += ' -i ' + file"
   ]
  },
  {
   "cell_type": "code",
   "execution_count": 47,
   "metadata": {},
   "outputs": [],
   "source": [
    "!kgtk cat $person -o person_temp.tsv"
   ]
  },
  {
   "cell_type": "code",
   "execution_count": 53,
   "metadata": {},
   "outputs": [],
   "source": [
    "df = pd.read_csv('person_temp.tsv', sep = '\\t', error_bad_lines=False, warn_bad_lines=False)\n",
    "df.to_csv('person_temp.tsv', index = False, sep = '\\t')"
   ]
  },
  {
   "cell_type": "code",
   "execution_count": 54,
   "metadata": {},
   "outputs": [],
   "source": [
    "!kgtk add_id -i person_temp.tsv -o /Users/grantxie/Downloads/kgtk-files-nih-V3.0_new/nih_person.id.tsv"
   ]
  },
  {
   "cell_type": "code",
   "execution_count": 64,
   "metadata": {},
   "outputs": [],
   "source": [
    "!kgtk cat $inv -o inv_temp.tsv"
   ]
  },
  {
   "cell_type": "code",
   "execution_count": 65,
   "metadata": {},
   "outputs": [],
   "source": [
    "df = pd.read_csv('inv_temp.tsv', sep = '\\t', error_bad_lines=False, warn_bad_lines=False)\n",
    "df.to_csv('inv_temp.tsv', index = False, sep = '\\t')"
   ]
  },
  {
   "cell_type": "code",
   "execution_count": 66,
   "metadata": {},
   "outputs": [],
   "source": [
    "!kgtk add_id -i inv_temp.tsv -o /Users/grantxie/Downloads/kgtk-files-nih-V3.0_new/nih_investigator.id.tsv"
   ]
  },
  {
   "cell_type": "code",
   "execution_count": 71,
   "metadata": {},
   "outputs": [],
   "source": [
    "!kgtk cat $org -o org_temp.tsv"
   ]
  },
  {
   "cell_type": "code",
   "execution_count": 72,
   "metadata": {},
   "outputs": [],
   "source": [
    "df = pd.read_csv('org_temp.tsv', sep = '\\t', error_bad_lines=False, warn_bad_lines=False)\n",
    "df.to_csv('org_temp.tsv', index = False, sep = '\\t')"
   ]
  },
  {
   "cell_type": "code",
   "execution_count": 73,
   "metadata": {},
   "outputs": [],
   "source": [
    "!kgtk add_id -i org_temp.tsv -o /Users/grantxie/Downloads/kgtk-files-nih-V3.0_new/nih_organization.id.tsv"
   ]
  },
  {
   "cell_type": "code",
   "execution_count": 70,
   "metadata": {},
   "outputs": [],
   "source": [
    "pro = ''\n",
    "for file in glob.glob('/Users/grantxie/Downloads/nih_projects/*.tsv'):\n",
    "    if 'project' in file:\n",
    "        pro += ' -i ' + file"
   ]
  },
  {
   "cell_type": "code",
   "execution_count": 74,
   "metadata": {},
   "outputs": [],
   "source": [
    "!kgtk cat $inv -o pro_temp.tsv"
   ]
  },
  {
   "cell_type": "code",
   "execution_count": 75,
   "metadata": {},
   "outputs": [],
   "source": [
    "df = pd.read_csv('pro_temp.tsv', sep = '\\t', error_bad_lines=False, warn_bad_lines=False)\n",
    "df.to_csv('pro_temp.tsv', index = False, sep = '\\t')"
   ]
  },
  {
   "cell_type": "code",
   "execution_count": 76,
   "metadata": {},
   "outputs": [],
   "source": [
    "!kgtk add_id -i pro_temp.tsv -o /Users/grantxie/Downloads/nih_projects/nih_project.id.tsv"
   ]
  },
  {
   "cell_type": "markdown",
   "metadata": {},
   "source": [
    "## Setup coinvestigators and output tl files"
   ]
  },
  {
   "cell_type": "code",
   "execution_count": 12,
   "metadata": {},
   "outputs": [
    {
     "name": "stdout",
     "output_type": "stream",
     "text": [
      "[2021-12-14 01:13:17 query]: SQL Translation:\n",
      "---------------------------------------------\n",
      "  SELECT *\n",
      "     FROM graph_32 AS graph_32_c1\n",
      "     LIMIT ?\n",
      "  PARAS: [5]\n",
      "---------------------------------------------\n",
      "id\tnode1\tlabel\tnode2\n",
      "QNIHPRO9983961-P8329-QNIHPER1860172\tQNIHPRO9983961\tP8329\tQNIHPER1860172\n",
      "QNIHPRO9950743-P8329-QNIHPER9569267\tQNIHPRO9950743\tP8329\tQNIHPER9569267\n",
      "QNIHPRO9950743-P8329-QNIHPER10426588\tQNIHPRO9950743\tP8329\tQNIHPER10426588\n",
      "QNIHPRO10121452-P8329-QNIHPER6081502\tQNIHPRO10121452\tP8329\tQNIHPER6081502\n",
      "QNIHPRO10121452-P8329-QNIHPER16339995\tQNIHPRO10121452\tP8329\tQNIHPER16339995\n"
     ]
    }
   ],
   "source": [
    "!$kypher \\\n",
    "-i \"/Users/grantxie/Downloads/kgtk-files-nih-V3.0_new/nih_investigator.id.tsv\" --as inv \\\n",
    "--limit 5"
   ]
  },
  {
   "cell_type": "code",
   "execution_count": 14,
   "metadata": {},
   "outputs": [
    {
     "name": "stdout",
     "output_type": "stream",
     "text": [
      "[2021-12-14 01:15:26 query]: SQL Translation:\n",
      "---------------------------------------------\n",
      "  SELECT *\n",
      "     FROM graph_33 AS graph_33_c1\n",
      "     LIMIT ?\n",
      "  PARAS: [5]\n",
      "---------------------------------------------\n",
      "id\tnode1\tlabel\tnode2\n",
      "QNIHPER1904041-label-1b2172\tQNIHPER1904041\tlabel\tROBERT STERLING TURNER\n",
      "QNIHPER1904041-PNIHID-475a43\tQNIHPER1904041\tPNIHID\t1904041\n",
      "QNIHPER1904041-P108-QNIHORG2059802\tQNIHPER1904041\tP108\tQNIHORG2059802\n",
      "QNIHORG2059802-PNIHID-d70604\tQNIHORG2059802\tPNIHID\t2059802\n",
      "QNIHPER6240796-label-d0a9cc\tQNIHPER6240796\tlabel\tRUTH OTTMAN\n"
     ]
    }
   ],
   "source": [
    "!$kypher \\\n",
    "-i \"/Users/grantxie/Downloads/kgtk-files-nih-V3.0_new/nih_person.id.tsv\" --as  per\\\n",
    "--limit 5"
   ]
  },
  {
   "cell_type": "code",
   "execution_count": 19,
   "metadata": {},
   "outputs": [
    {
     "name": "stdout",
     "output_type": "stream",
     "text": [
      "[2021-12-14 01:20:13 query]: SQL Translation:\n",
      "---------------------------------------------\n",
      "  SELECT *\n",
      "     FROM graph_25 AS graph_25_c1\n",
      "     LIMIT ?\n",
      "  PARAS: [5]\n",
      "---------------------------------------------\n",
      "id\tnode1\tlabel\tnode2\n",
      "QNIHORG9087701-label-d0888a\tQNIHORG9087701\tlabel\t\"UNIVERSITY OF WASHINGTON\"\n",
      "QNIHstate_wa_united_states-label-37dccd\tQNIHstate_wa_united_states\tlabel\t\"WA\"\n",
      "QNIHORG9087701-PNIHstate-7b257a\tQNIHORG9087701\tPNIHstate\t\"QNIHstate_wa_united_states\"\n",
      "QNIHcity_seattle_wa_united_states-label-b12b73\tQNIHcity_seattle_wa_united_states\tlabel\t\"SEATTLE\"\n",
      "QNIHORG9087701-PNIHcity-e52389\tQNIHORG9087701\tPNIHcity\t\"QNIHcity_seattle_wa_united_states\"\n"
     ]
    }
   ],
   "source": [
    "!$kypher \\\n",
    "-i \"/Users/grantxie/Downloads/kgtk-files-nih-V3.0_new/nih_organization.id.tsv\" --as organization\\\n",
    "--limit 5"
   ]
  },
  {
   "cell_type": "code",
   "execution_count": 15,
   "metadata": {},
   "outputs": [
    {
     "name": "stdout",
     "output_type": "stream",
     "text": [
      "[2021-12-14 01:15:47 query]: SQL Translation:\n",
      "---------------------------------------------\n",
      "  SELECT DISTINCT graph_32_c1.\"node2\" \"_aLias.node1\", ? \"_aLias.label\", graph_33_c3.\"node2\" \"_aLias.node2\"\n",
      "     FROM graph_32 AS graph_32_c1\n",
      "     INNER JOIN graph_32 AS graph_32_c2, graph_33 AS graph_33_c3\n",
      "     ON graph_32_c1.\"node1\" = graph_32_c2.\"node1\"\n",
      "        AND graph_32_c2.\"node2\" = graph_33_c3.\"node1\"\n",
      "        AND graph_33_c3.\"label\" = ?\n",
      "        AND (graph_32_c1.\"node2\" != graph_32_c2.\"node2\")\n",
      "     ORDER BY graph_32_c1.\"node2\" ASC\n",
      "  PARAS: ['Pcoinvestigator_names', 'label']\n",
      "---------------------------------------------\n",
      "[2021-12-14 01:15:47 sqlstore]: CREATE INDEX \"graph_33_node1_idx\" ON \"graph_33\" (\"node1\")\n",
      "[2021-12-14 01:15:48 sqlstore]: ANALYZE \"graph_33_node1_idx\"\n",
      "[2021-12-14 01:15:48 sqlstore]: CREATE INDEX \"graph_33_label_idx\" ON \"graph_33\" (\"label\")\n",
      "[2021-12-14 01:15:49 sqlstore]: ANALYZE \"graph_33_label_idx\"\n"
     ]
    }
   ],
   "source": [
    "!$kypher -i inv -i per \\\n",
    "--match '\\\n",
    "    inv: (project)-[]->(person1), \\\n",
    "    inv: (project)-[]->(person2), \\\n",
    "    per: (person2)-[:label]->(person2_name)' \\\n",
    "--where 'person1 != person2' \\\n",
    "--return 'distinct person1 as node1, \"Pcoinvestigator_names\" as label, person2_name as `node2`' \\\n",
    "--order-by 'person1' \\\n",
    "-o \"$OUT\"/coinvestigators.tsv.gz\n",
    "\n"
   ]
  },
  {
   "cell_type": "code",
   "execution_count": 16,
   "metadata": {},
   "outputs": [],
   "source": [
    "!$kgtk sort --columns node1 -i \"$OUT\"/coinvestigators.tsv.gz \\\n",
    "/ compact --mode=NONE --columns node1 label --presorted True \\\n",
    "-o \"$OUT\"/coinvestigators.compact.tsv.gz"
   ]
  },
  {
   "cell_type": "code",
   "execution_count": 31,
   "metadata": {},
   "outputs": [
    {
     "name": "stdout",
     "output_type": "stream",
     "text": [
      "[2021-12-14 03:01:33 query]: SQL Translation:\n",
      "---------------------------------------------\n",
      "  SELECT graph_66_c1.\"node1\" \"_aLias.person\", graph_33_c3.\"node2\" \"_aLias.person_name\", graph_33_c2.\"node2\" \"_aLias.organization\", graph_25_c4.\"node2\" \"_aLias.organization_name\", graph_66_c1.\"node2\" \"_aLias.coinvestigator_names\"\n",
      "     FROM graph_25 AS graph_25_c4\n",
      "     INNER JOIN graph_33 AS graph_33_c2, graph_33 AS graph_33_c3, graph_66 AS graph_66_c1\n",
      "     ON graph_33_c2.\"node2\" = graph_25_c4.\"node1\"\n",
      "        AND graph_66_c1.\"node1\" = graph_33_c2.\"node1\"\n",
      "        AND graph_66_c1.\"node1\" = graph_33_c3.\"node1\"\n",
      "        AND graph_33_c2.\"label\" = ?\n",
      "        AND graph_33_c3.\"label\" = ?\n",
      "  PARAS: ['P108', 'label']\n",
      "---------------------------------------------\n",
      "^C\n",
      "\n",
      "Keyboard interrupt in query --graph-cache /Users/grantxie/Downloads/NIH/temp.useful_wikidata_files/wikidata.sqlite3.db -i /Users/grantxie/Downloads/NIH/useful_wikidata_files/coinvestigators.compact.tsv.gz -i organization -i per --match       coinvestigators: (person)-[]->(coinvestigator_names),      per: (person)-[:P108]->(organization),      per: (person)-[:label]->(person_name),      organization: (organization)-[]->(organization_name) --return       person as person,      person_name as person_name,      organization as organization,      organization_name as organization_name,      coinvestigator_names as coinvestigator_names -o /Users/grantxie/Downloads/NIH/useful_wikidata_files/nih_investigators_for_tl_original.tsv.gz.\n"
     ]
    }
   ],
   "source": [
    "!$kypher -i \"$OUT\"/coinvestigators.compact.tsv.gz -i organization -i per \\\n",
    "--match ' \\\n",
    "    coinvestigators: (person)-[]->(coinvestigator_names), \\\n",
    "    per: (person)-[:P108]->(organization), \\\n",
    "    per: (person)-[:label]->(person_name), \\\n",
    "    organization: (organization)-[]->(organization_name)' \\\n",
    "--return ' \\\n",
    "    person as person, \\\n",
    "    person_name as person_name, \\\n",
    "    organization as organization, \\\n",
    "    organization_name as organization_name, \\\n",
    "    coinvestigator_names as coinvestigator_names' \\\n",
    "-o \"$OUT\"/nih_investigators_for_tl_original.tsv.gz\n"
   ]
  },
  {
   "cell_type": "code",
   "execution_count": 30,
   "metadata": {},
   "outputs": [
    {
     "name": "stdout",
     "output_type": "stream",
     "text": [
      "[2021-12-14 02:54:52 query]: SQL Translation:\n",
      "---------------------------------------------\n",
      "  SELECT graph_25_c7.\"node2\" \"_aLias.organization\", graph_25_c4.\"node2\" \"_aLias.city\", graph_25_c5.\"node2\" \"_aLias.state\", graph_25_c6.\"node2\" \"_aLias.country\"\n",
      "     FROM graph_25 AS graph_25_c1\n",
      "     INNER JOIN graph_25 AS graph_25_c2, graph_25 AS graph_25_c3, graph_25 AS graph_25_c4, graph_25 AS graph_25_c5, graph_25 AS graph_25_c6, graph_25 AS graph_25_c7\n",
      "     ON graph_25_c1.\"node1\" = graph_25_c2.\"node1\"\n",
      "        AND graph_25_c1.\"node1\" = graph_25_c3.\"node1\"\n",
      "        AND graph_25_c1.\"node1\" = graph_25_c7.\"node1\"\n",
      "        AND graph_25_c1.\"node2\" = graph_25_c4.\"node1\"\n",
      "        AND graph_25_c2.\"node2\" = graph_25_c5.\"node1\"\n",
      "        AND graph_25_c3.\"node2\" = graph_25_c6.\"node1\"\n",
      "        AND graph_25_c1.\"label\" = ?\n",
      "        AND graph_25_c2.\"label\" = ?\n",
      "        AND graph_25_c3.\"label\" = ?\n",
      "        AND graph_25_c4.\"label\" = ?\n",
      "        AND graph_25_c5.\"label\" = ?\n",
      "        AND graph_25_c6.\"label\" = ?\n",
      "        AND graph_25_c7.\"label\" = ?\n",
      "  PARAS: ['PNIHcity', 'PNIHstate', 'PNIHcountry', 'label', 'label', 'label', 'label']\n",
      "---------------------------------------------\n"
     ]
    }
   ],
   "source": [
    "!$kypher -i organization \\\n",
    "--match ' \\\n",
    "    organization: (organization)-[:PNIHcity]->(city), \\\n",
    "    organization: (organization)-[:PNIHstate]->(state), \\\n",
    "    organization: (organization)-[:PNIHcountry]->(country), \\\n",
    "    organization: (city)-[:label]->(cname), \\\n",
    "    organization: (state)-[:label]->(sname), \\\n",
    "    organization: (country)-[:label]->(coname), \\\n",
    "    organization: (organization)-[:label]->(oname)' \\\n",
    "--return ' \\\n",
    "    oname as organization,\\\n",
    "    cname as city, \\\n",
    "    sname as state, \\\n",
    "    coname as country' \\\n",
    "-o \"$OUT\"/nih_investigators_for_tl_original.tsv.gz"
   ]
  },
  {
   "cell_type": "code",
   "execution_count": null,
   "metadata": {},
   "outputs": [],
   "source": []
  }
 ],
 "metadata": {
  "celltoolbar": "Tags",
  "kernelspec": {
   "display_name": "kgtk_env",
   "language": "python",
   "name": "kgtk_env"
  },
  "language_info": {
   "codemirror_mode": {
    "name": "ipython",
    "version": 3
   },
   "file_extension": ".py",
   "mimetype": "text/x-python",
   "name": "python",
   "nbconvert_exporter": "python",
   "pygments_lexer": "ipython3",
   "version": "3.7.10"
  }
 },
 "nbformat": 4,
 "nbformat_minor": 4
}
